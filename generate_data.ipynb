{
 "cells": [
  {
   "cell_type": "code",
   "execution_count": 3,
   "metadata": {},
   "outputs": [],
   "source": [
    "from othello import Othello\n",
    "import numpy as np\n",
    "from tqdm import tqdm"
   ]
  },
  {
   "cell_type": "code",
   "execution_count": 5,
   "metadata": {},
   "outputs": [],
   "source": [
    "def pos_to_token(i,j):\n",
    "    out = 8*i + j\n",
    "    if out > 36:\n",
    "        out -= 4\n",
    "    elif out > 28:\n",
    "        out -= 2\n",
    "    return out"
   ]
  },
  {
   "cell_type": "code",
   "execution_count": 9,
   "metadata": {},
   "outputs": [
    {
     "name": "stderr",
     "output_type": "stream",
     "text": [
      "  0%|          | 0/100 [00:00<?, ?it/s]"
     ]
    },
    {
     "name": "stderr",
     "output_type": "stream",
     "text": [
      "100%|██████████| 100/100 [00:01<00:00, 65.36it/s]"
     ]
    },
    {
     "name": "stdout",
     "output_type": "stream",
     "text": [
      "[19 18 40 27 21 39 38 11 22 28 20 47 33 12 26 15 41 50 56 42 34 32  4 43\n",
      " 23 46 59 13 45 35  9 55  7 52 25 37 54 57 51 30 58 53  5  3 16 17 44 14\n",
      " 48  6 31 24 29  1  8 49 36 10  2  0]\n"
     ]
    },
    {
     "name": "stderr",
     "output_type": "stream",
     "text": [
      "\n"
     ]
    }
   ],
   "source": [
    "#seed 9 for train, 10 for test\n",
    "\n",
    "def generate_data(data_size, seed):\n",
    "    rng = np.random.default_rng(seed)\n",
    "    moves = np.zeros((data_size,60), dtype=int)\n",
    "    for run in tqdm(range(data_size)):\n",
    "        game = Othello()\n",
    "        for i in range(60):\n",
    "            valid_moves = game.valid_moves()\n",
    "            if not valid_moves:\n",
    "                game.move_pass()\n",
    "                moves[run,i]=60\n",
    "            else:\n",
    "                move = rng.choice(valid_moves)\n",
    "                game.move(*move)\n",
    "                moves[run,i]=pos_to_token(*move)\n",
    "\n",
    "    return moves\n",
    "#np.save('mini_training_moves.npy', moves)\n",
    "#loaded = np.load('test_moves.npy')"
   ]
  }
 ],
 "metadata": {
  "kernelspec": {
   "display_name": "othello_env",
   "language": "python",
   "name": "python3"
  },
  "language_info": {
   "codemirror_mode": {
    "name": "ipython",
    "version": 3
   },
   "file_extension": ".py",
   "mimetype": "text/x-python",
   "name": "python",
   "nbconvert_exporter": "python",
   "pygments_lexer": "ipython3",
   "version": "3.11.0"
  }
 },
 "nbformat": 4,
 "nbformat_minor": 2
}
