{
 "cells": [
  {
   "cell_type": "code",
   "execution_count": 1,
   "metadata": {},
   "outputs": [],
   "source": [
    "from othello import Othello\n",
    "import numpy as np\n",
    "from tqdm import tqdm"
   ]
  },
  {
   "cell_type": "code",
   "execution_count": 2,
   "metadata": {},
   "outputs": [],
   "source": [
    "def pos_to_token(i,j):\n",
    "    out = 8*i + j\n",
    "    if out > 36:\n",
    "        out -= 4\n",
    "    elif out > 28:\n",
    "        out -= 2\n",
    "    return out"
   ]
  },
  {
   "cell_type": "code",
   "execution_count": 3,
   "metadata": {},
   "outputs": [],
   "source": [
    "#seed 9 for train, 10 for test\n",
    "\n",
    "def generate_data(data_size, seed):\n",
    "    rng = np.random.default_rng(seed)\n",
    "    moves = np.zeros((data_size,60), dtype=int)\n",
    "    for run in tqdm(range(data_size)):\n",
    "        game = Othello()\n",
    "        for i in range(60):\n",
    "            valid_moves = game.valid_moves()\n",
    "            if not valid_moves:\n",
    "                game.move_pass()\n",
    "                moves[run,i]=60\n",
    "            else:\n",
    "                move = rng.choice(valid_moves)\n",
    "                game.move(*move)\n",
    "                moves[run,i]=pos_to_token(*move)\n",
    "\n",
    "    return moves\n",
    "#np.save('mini_training_moves.npy', moves)\n",
    "#loaded = np.load('test_moves.npy')"
   ]
  },
  {
   "cell_type": "code",
   "execution_count": 4,
   "metadata": {},
   "outputs": [],
   "source": [
    "def run_game(run):\n",
    "    game = Othello()\n",
    "    moves = np.zeros((60,), dtype=int)\n",
    "    rng = np.random.default_rng(9 + 25*run)\n",
    "    for i in range(60):\n",
    "        \n",
    "        valid_moves = game.valid_moves()\n",
    "        if not valid_moves:\n",
    "            game.move_pass()\n",
    "            moves[i]=60\n",
    "        else:\n",
    "            move = rng.choice(valid_moves)\n",
    "            game.move(*move)\n",
    "            moves[i]=pos_to_token(*move)\n",
    "    return moves"
   ]
  },
  {
   "cell_type": "code",
   "execution_count": 5,
   "metadata": {},
   "outputs": [
    {
     "name": "stderr",
     "output_type": "stream",
     "text": [
      "100%|██████████| 1048576/1048576 [17:13<00:00, 1014.30it/s]\n"
     ]
    }
   ],
   "source": [
    "from multiprocessing import Pool\n",
    "\n",
    "pool = Pool()\n",
    "\n",
    "results = list(tqdm(pool.imap_unordered(run_game, range(1048576)), total = 1048576))\n",
    "pool.close()\n",
    "pool.join()"
   ]
  },
  {
   "cell_type": "code",
   "execution_count": 7,
   "metadata": {},
   "outputs": [
    {
     "data": {
      "text/plain": [
       "(1048576, 60)"
      ]
     },
     "execution_count": 7,
     "metadata": {},
     "output_type": "execute_result"
    }
   ],
   "source": [
    "np.array(results)"
   ]
  },
  {
   "cell_type": "code",
   "execution_count": 8,
   "metadata": {},
   "outputs": [],
   "source": [
    "np.save('large_training.npy', np.array(results))"
   ]
  },
  {
   "cell_type": "code",
   "execution_count": 9,
   "metadata": {},
   "outputs": [
    {
     "name": "stderr",
     "output_type": "stream",
     "text": [
      "100%|██████████| 4096/4096 [00:51<00:00, 79.28it/s]\n"
     ]
    }
   ],
   "source": [
    "np.save('large_val.npy', generate_data(4096, 1000))"
   ]
  }
 ],
 "metadata": {
  "kernelspec": {
   "display_name": "othello_env",
   "language": "python",
   "name": "python3"
  },
  "language_info": {
   "codemirror_mode": {
    "name": "ipython",
    "version": 3
   },
   "file_extension": ".py",
   "mimetype": "text/x-python",
   "name": "python",
   "nbconvert_exporter": "python",
   "pygments_lexer": "ipython3",
   "version": "3.10.13"
  }
 },
 "nbformat": 4,
 "nbformat_minor": 2
}
