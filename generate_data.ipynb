{
 "cells": [
  {
   "cell_type": "code",
   "execution_count": 1,
   "metadata": {},
   "outputs": [],
   "source": [
    "from othello import Othello\n",
    "import numpy as np\n",
    "from tqdm import tqdm"
   ]
  },
  {
   "cell_type": "code",
   "execution_count": 2,
   "metadata": {},
   "outputs": [],
   "source": [
    "#seed 9 for train, 10 for test\n",
    "\n",
    "def generate_data(data_size, seed):\n",
    "    rng = np.random.default_rng(seed)\n",
    "    moves = np.zeros((data_size,60), dtype=int)\n",
    "    for run in tqdm(range(data_size)):\n",
    "        game = Othello()\n",
    "        for i in range(60):\n",
    "            valid_moves = game.valid_moves()\n",
    "            if not valid_moves:\n",
    "                game.move_pass()\n",
    "                moves[run,i]=60\n",
    "            else:\n",
    "                move = rng.choice(valid_moves)\n",
    "                game.move(*move)\n",
    "                moves[run,i]=Othello.pos_to_token(*move)\n",
    "\n",
    "    return moves"
   ]
  },
  {
   "cell_type": "code",
   "execution_count": null,
   "metadata": {},
   "outputs": [],
   "source": [
    "np.save('./data/moves.npy', generate_data(100000,9))"
   ]
  },
  {
   "cell_type": "code",
   "execution_count": 4,
   "metadata": {},
   "outputs": [
    {
     "name": "stderr",
     "output_type": "stream",
     "text": [
      "100%|██████████| 100/100 [00:01<00:00, 67.32it/s]\n"
     ]
    }
   ],
   "source": [
    "np.save('./data/test_moves.npy', generate_data(100,10))\n",
    "#np.save('large_val.npy', generate_data(4096, 1000))"
   ]
  },
  {
   "cell_type": "code",
   "execution_count": 4,
   "metadata": {},
   "outputs": [],
   "source": [
    "# rearranged to allow multiprocessing to speed up generation; runs on linux but hangs in windows - think run_game would have to be in another file for windows\n",
    "\n",
    "def run_game(run):\n",
    "    game = Othello()\n",
    "    moves = np.zeros((60,), dtype=int)\n",
    "    rng = np.random.default_rng(9 + 25*run)\n",
    "    for i in range(60):\n",
    "        \n",
    "        valid_moves = game.valid_moves()\n",
    "        if not valid_moves:\n",
    "            game.move_pass()\n",
    "            moves[i]=60\n",
    "        else:\n",
    "            move = rng.choice(valid_moves)\n",
    "            game.move(*move)\n",
    "            moves[i]=Othello.pos_to_token(*move)\n",
    "    return moves"
   ]
  },
  {
   "cell_type": "code",
   "execution_count": 5,
   "metadata": {},
   "outputs": [
    {
     "name": "stderr",
     "output_type": "stream",
     "text": [
      "  0%|          | 0/100 [00:00<?, ?it/s]"
     ]
    }
   ],
   "source": [
    "from multiprocessing import Pool\n",
    "\n",
    "pool = Pool()\n",
    "\n",
    "results = list(tqdm(pool.imap_unordered(run_game, range(1048576)), total = 1048576))\n",
    "pool.close()\n",
    "pool.join()\n",
    "\n",
    "#np.save('large_training.npy', np.array(results))"
   ]
  }
 ],
 "metadata": {
  "kernelspec": {
   "display_name": "othello_env",
   "language": "python",
   "name": "python3"
  },
  "language_info": {
   "codemirror_mode": {
    "name": "ipython",
    "version": 3
   },
   "file_extension": ".py",
   "mimetype": "text/x-python",
   "name": "python",
   "nbconvert_exporter": "python",
   "pygments_lexer": "ipython3",
   "version": "3.11.0"
  }
 },
 "nbformat": 4,
 "nbformat_minor": 2
}
